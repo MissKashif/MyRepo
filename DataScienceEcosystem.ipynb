{
 "cells": [
  {
   "cell_type": "markdown",
   "id": "a1bee800",
   "metadata": {},
   "source": [
    "# Data Science Tools and Ecosystem"
   ]
  },
  {
   "cell_type": "markdown",
   "id": "a8f302ec",
   "metadata": {},
   "source": [
    "## Author\n",
    "Fakhra Kashif"
   ]
  },
  {
   "cell_type": "markdown",
   "id": "89803eb9",
   "metadata": {},
   "source": [
    "In this notebook, Data Science Tools and Ecosystem are summarized."
   ]
  },
  {
   "cell_type": "markdown",
   "id": "ceb4cd53",
   "metadata": {},
   "source": [
    "Popular languages that Data Scientists use are:\n",
    "1. Python\n",
    "2. Java\n",
    "3. R\n",
    "4. Scala"
   ]
  },
  {
   "cell_type": "markdown",
   "id": "fb42f639",
   "metadata": {},
   "source": [
    "**Objectives:**\n",
    "\n",
    "  - Languages of Data Science\n",
    "  - Tools for Data Scince\n",
    "  - Libraries of Data Science"
   ]
  },
  {
   "cell_type": "markdown",
   "id": "15611938",
   "metadata": {},
   "source": [
    "Some of the commonly used libraries used by Data Scientists include:\n",
    "1. scikit-learn\n",
    "2. TesorFlow\n",
    "3. Theano\n",
    "4. Pytorch"
   ]
  },
  {
   "cell_type": "markdown",
   "id": "e0f996be",
   "metadata": {},
   "source": [
    "| Data Science Tools |\n",
    "| ----------------- |\n",
    "| Rapid Miner       |\n",
    "| Apache            |\n",
    "| Tensor Flow       |"
   ]
  },
  {
   "cell_type": "markdown",
   "id": "52354c35",
   "metadata": {},
   "source": [
    "### Introducing Arithmetic Expressions\n",
    "\\begin{equation}\n",
    "e^x=\\sum_{i=0}^\\infty \\frac{1}{i!}x^i\n",
    "\\end{equation}\n",
    "\\begin{equation}\n",
    "y=a+b\n",
    "\\end{equation}"
   ]
  },
  {
   "cell_type": "code",
   "execution_count": 6,
   "id": "8a621ce7",
   "metadata": {},
   "outputs": [
    {
     "data": {
      "text/plain": [
       "17"
      ]
     },
     "execution_count": 6,
     "metadata": {},
     "output_type": "execute_result"
    }
   ],
   "source": [
    "# This a simple arithmetic expression to mutiply then add integers.\n",
    "(3*4)+5"
   ]
  },
  {
   "cell_type": "code",
   "execution_count": 5,
   "id": "a9d7dc6f",
   "metadata": {},
   "outputs": [
    {
     "name": "stdout",
     "output_type": "stream",
     "text": [
      "200 mins= 3.3333333333333335\n"
     ]
    }
   ],
   "source": [
    "# This will convert 200 minutes to hours by diving by 60\n",
    "h=200/60\n",
    "print(\"200 mins=\",h)\n",
    "\n"
   ]
  },
  {
   "cell_type": "code",
   "execution_count": null,
   "id": "aa7d7c8b",
   "metadata": {},
   "outputs": [],
   "source": []
  }
 ],
 "metadata": {
  "kernelspec": {
   "display_name": "Python 3 (ipykernel)",
   "language": "python",
   "name": "python3"
  },
  "language_info": {
   "codemirror_mode": {
    "name": "ipython",
    "version": 3
   },
   "file_extension": ".py",
   "mimetype": "text/x-python",
   "name": "python",
   "nbconvert_exporter": "python",
   "pygments_lexer": "ipython3",
   "version": "3.9.13"
  }
 },
 "nbformat": 4,
 "nbformat_minor": 5
}
